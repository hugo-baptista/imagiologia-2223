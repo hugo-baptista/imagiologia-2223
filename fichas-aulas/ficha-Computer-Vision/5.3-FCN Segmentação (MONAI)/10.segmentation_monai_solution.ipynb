{
 "cells": [
  {
   "cell_type": "markdown",
   "metadata": {
    "colab_type": "text",
    "id": "fkpT6wtkd786"
   },
   "source": [
    "# Segmentation Exercise\n",
    "---\n",
    "\n",
    "In this exercise we will segment the left ventricle of the heart in relatively small images using neural networks. \n",
    "Below is the code for setting up a segmentation network and training it. The network isn't very good, **so the exercise is to improve the quality of the segmentation by improving the network and/or the training scheme including data loading efficiency and data augmentation**. \n",
    "\n",
    "The data being used here is derived from the [Sunnybrook Cardiac Dataset](https://www.cardiacatlas.org/studies/sunnybrook-cardiac-data/) of cardiac MR images, filtered to contain only left ventricular myocardium segmentations and reduced in the XY dimensions.\n",
    "\n",
    "First we install and import MONAI plus other dependencies:"
   ]
  },
  {
   "cell_type": "code",
   "execution_count": 1,
   "metadata": {
    "colab": {},
    "colab_type": "code",
    "id": "TLl72MMid0pJ"
   },
   "outputs": [],
   "source": [
    "%matplotlib inline\n",
    "\n",
    "from urllib.request import urlopen\n",
    "from io import BytesIO\n",
    "\n",
    "import torch, torch.nn as nn, torch.nn.functional as F\n",
    "\n",
    "import numpy as np\n",
    "\n",
    "import matplotlib.pyplot as plt\n",
    "\n",
    "import monai\n",
    "from monai.utils import first\n",
    "from monai.losses import DiceLoss\n",
    "from monai.metrics import DiceMetric\n",
    "from monai.data import ArrayDataset\n",
    "from torch.utils.data import DataLoader\n",
    "from monai.utils import progress_bar\n",
    "from monai.transforms import (\n",
    "    Transform,\n",
    "    Compose,\n",
    "    AddChannel,\n",
    "    ScaleIntensity,\n",
    "    ToTensor\n",
    ")\n",
    "\n",
    "device = torch.device(\"cuda:0\" if torch.cuda.is_available() else \"cpu\")\n",
    "DATA_NPZ = \"https://github.com/ericspod/VPHSummerSchool2019/raw/master/scd_lvsegs.npz\"\n",
    "pin_memory=torch.cuda.is_available()\n",
    "\n",
    "batch_size = 300  # changed from original\n",
    "num_workers = 10  # changed from original\n",
    "num_epochs = 600\n",
    "lr = 5e-4  # changed from original"
   ]
  },
  {
   "cell_type": "markdown",
   "metadata": {
    "colab_type": "text",
    "id": "KyU8DpLmjIBL"
   },
   "source": [
    "We now load the data from the remote source and visualize a sample:"
   ]
  },
  {
   "cell_type": "code",
   "execution_count": 2,
   "metadata": {
    "colab": {
     "base_uri": "https://localhost:8080/",
     "height": 305
    },
    "colab_type": "code",
    "id": "HqCaraEzieh3",
    "outputId": "434141a3-4925-45c8-bf46-0a844b455070"
   },
   "outputs": [
    {
     "name": "stdout",
     "output_type": "stream",
     "text": [
      "(420, 64, 64) (420, 64, 64)\n"
     ]
    },
    {
     "data": {
      "text/plain": [
       "<matplotlib.image.AxesImage at 0x7f99a1a4ff90>"
      ]
     },
     "execution_count": 2,
     "metadata": {},
     "output_type": "execute_result"
    },
    {
     "data": {
      "image/png": "[encoded data removed]",
      "text/plain": [
       "<Figure size 432x288 with 1 Axes>"
      ]
     },
     "metadata": {
      "needs_background": "light"
     },
     "output_type": "display_data"
    }
   ],
   "source": [
    "'''\n",
    "remote_file = urlopen(DATA_NPZ)\n",
    "npz = BytesIO(remote_file.read())\n",
    "data = np.load(npz)  # load all the data from the archive\n",
    "'''\n",
    "data=np.load('scd_lvsegs.npz')\n",
    "images = data[\"images\"]  # images in BHW array order\n",
    "segs = data[\"segs\"]  # segmentations in BHW array order\n",
    "case_indices = data[\"caseIndices\"]  # the indices in `images` for each case\n",
    "\n",
    "images = images.astype(np.float32) / images.max()  # normalize images\n",
    "\n",
    "print(images.shape, segs.shape)\n",
    "plt.imshow(images[13] + segs[13] * 0.25, cmap=\"gray\")  # show image 13 with segmentation"
   ]
  },
  {
   "cell_type": "markdown",
   "metadata": {
    "colab_type": "text",
    "id": "fnSoc-rujRjq"
   },
   "source": [
    "We will split our data into a training and validation set by keeping the last 6 cases as the latter:"
   ]
  },
  {
   "cell_type": "code",
   "execution_count": 3,
   "metadata": {
    "colab": {},
    "colab_type": "code",
    "id": "vvIeP4DGjbkT"
   },
   "outputs": [],
   "source": [
    "test_index = case_indices[-6, 0]  # keep the last 6 cases for testing\n",
    "\n",
    "# divide the images, segmentations, and categories into train/test sets\n",
    "train_images, train_segs = images[:test_index], segs[:test_index]\n",
    "test_images, test_segs = images[test_index:], segs[test_index:]"
   ]
  },
  {
   "cell_type": "markdown",
   "metadata": {
    "colab_type": "text",
    "id": "3qyUcjrljrIs"
   },
   "source": [
    "We can now create a MONAI data loading object to compose batches during training, and another for validation:"
   ]
  },
  {
   "cell_type": "code",
   "execution_count": 4,
   "metadata": {
    "colab": {
     "base_uri": "https://localhost:8080/",
     "height": 35
    },
    "colab_type": "code",
    "id": "xU6A9TNLfEUu",
    "outputId": "1cc3348e-57b8-4eb4-a964-0b9239afa988"
   },
   "outputs": [
    {
     "name": "stderr",
     "output_type": "stream",
     "text": [
      "100%|██████████| 368/368 [00:00<00:00, 9746.13it/s]\n"
     ]
    },
    {
     "name": "stdout",
     "output_type": "stream",
     "text": [
      "torch.Size([300, 1, 64, 64]) tensor(0.) tensor(1.) torch.Size([300, 1, 64, 64])\n"
     ]
    },
    {
     "data": {
      "text/plain": [
       "<matplotlib.image.AxesImage at 0x7f9a6cb887d0>"
      ]
     },
     "execution_count": 4,
     "metadata": {},
     "output_type": "execute_result"
    },
    {
     "data": {
      "image/png": "[encoded data removed]",
      "text/plain": [
       "<Figure size 432x288 with 1 Axes>"
      ]
     },
     "metadata": {
      "needs_background": "light"
     },
     "output_type": "display_data"
    }
   ],
   "source": [
    "# The solution here does two things: introduce random augmentations \n",
    "#and converting the training pipeline to be based on dictionaries. \n",
    "#This lets us use the CacheDataset type more easily with two part data (image/segmentation).\n",
    "\n",
    "from monai.data import CacheDataset\n",
    "from monai.transforms import (\n",
    "    AddChanneld,\n",
    "    ScaleIntensityd,\n",
    "    ToTensord,\n",
    "    RandFlipd,\n",
    "    RandRotate90d,\n",
    "    RandZoomd,\n",
    "    Rand2DElasticd,\n",
    "    RandAffined,\n",
    ")\n",
    "\n",
    "aug_prob = 0.5\n",
    "keys = (\"img\", \"seg\")\n",
    "\n",
    "# use these when interpolating binary segmentations to ensure values are 0 or 1 only\n",
    "zoom_mode = monai.utils.enums.InterpolateMode.NEAREST\n",
    "elast_mode = monai.utils.enums.GridSampleMode.BILINEAR, monai.utils.enums.GridSampleMode.NEAREST\n",
    "\n",
    "\n",
    "trans = Compose(\n",
    "    [\n",
    "        ScaleIntensityd(keys=(\"img\",)),  # rescale image data to range [0,1]\n",
    "        AddChanneld(keys=keys),  # add 1-size channel dimension\n",
    "        RandRotate90d(keys=keys, prob=aug_prob),\n",
    "        RandFlipd(keys=keys, prob=aug_prob),\n",
    "        RandZoomd(keys=keys, prob=aug_prob, mode=zoom_mode),\n",
    "        Rand2DElasticd(keys=keys, prob=aug_prob, spacing=10, magnitude_range=(-2, 2), mode=elast_mode),\n",
    "        RandAffined(keys=keys, prob=aug_prob, rotate_range=1, translate_range=16, mode=elast_mode),\n",
    "        ToTensord(keys=keys),  # convert to tensor\n",
    "    ]\n",
    ")\n",
    "\n",
    "\n",
    "data = [\n",
    "    {\"img\": train_images[i], \"seg\": train_segs[i]} for i in range(len(train_images))\n",
    "]\n",
    "\n",
    "ds = CacheDataset(data, trans)\n",
    "loader = DataLoader(\n",
    "    dataset=ds,\n",
    "    batch_size=batch_size,\n",
    "    num_workers=num_workers,\n",
    "    pin_memory=pin_memory,\n",
    ")\n",
    "\n",
    "# for simplicity we'll keep the existing pipeline for the validation data since it doesn't have any augmentations\n",
    "\n",
    "val_image_trans = Compose([ScaleIntensity(), AddChannel(), ToTensor(),])\n",
    "\n",
    "val_seg_trans = Compose([AddChannel(), ToTensor()])\n",
    "\n",
    "\n",
    "val_ds = ArrayDataset(test_images, val_image_trans, test_segs, val_seg_trans)\n",
    "val_loader = DataLoader(\n",
    "    dataset=val_ds,\n",
    "    batch_size=batch_size,\n",
    "    num_workers=num_workers,\n",
    "    pin_memory=pin_memory,\n",
    ")\n",
    "\n",
    "# %timeit first(loader)\n",
    "\n",
    "batch = first(loader)\n",
    "im = batch[\"img\"]\n",
    "seg = batch[\"seg\"]\n",
    "print(im.shape, im.min(), im.max(), seg.shape)\n",
    "plt.imshow(im[0, 0].numpy() + seg[0, 0].numpy(), cmap=\"gray\")"
   ]
  },
  {
   "cell_type": "markdown",
   "metadata": {
    "colab_type": "text",
    "id": "c-hNZy4qkHji"
   },
   "source": [
    "<s>We now define out simple network. This doesn't do a good job so consider how to improve it by adding layers or other elements:</s>\n",
    "\n",
    "We'll use UNet for our segmentation network instead."
   ]
  },
  {
   "cell_type": "code",
   "execution_count": 5,
   "metadata": {
    "colab": {},
    "colab_type": "code",
    "id": "lM5NapkCj_Mx"
   },
   "outputs": [],
   "source": [
    "# class SegNet(nn.Module):\n",
    "#     def __init__(self):\n",
    "#         super().__init__()\n",
    "\n",
    "#         self.model = nn.Sequential(\n",
    "#             # layer 1: convolution, normalization, downsampling\n",
    "#             nn.Conv2d(1, 2, 3, 1, 1),\n",
    "#             nn.BatchNorm2d(2),\n",
    "#             nn.ReLU(),\n",
    "#             nn.MaxPool2d(3, 2, 1),\n",
    "#             # layer 2\n",
    "#             nn.Conv2d(2, 4, 3, 1, 1),\n",
    "#             # layer 3\n",
    "#             nn.ConvTranspose2d(4, 2, 3, 2, 1, 1),\n",
    "#             nn.BatchNorm2d(2),\n",
    "#             nn.ReLU(),\n",
    "#             # layer 4: output\n",
    "#             nn.Conv2d(2, 1, 3, 1, 1),\n",
    "#         )\n",
    "\n",
    "#     def forward(self, x):\n",
    "#         return self.model(x)"
   ]
  },
  {
   "cell_type": "markdown",
   "metadata": {
    "colab_type": "text",
    "id": "Di-LUDgO3k5r"
   },
   "source": [
    "Our training scheme is very simple. For each epoch we train on each batch of images from the training set, thus training with each image once, and then evaluate with the validation set."
   ]
  },
  {
   "cell_type": "code",
   "execution_count": 6,
   "metadata": {
    "colab": {},
    "colab_type": "code",
    "id": "7dSiOsbmkrbn"
   },
   "outputs": [
    {
     "name": "stdout",
     "output_type": "stream",
     "text": [
      "600/600 Validation Metric: 0.689 [==============================]\n"
     ]
    }
   ],
   "source": [
    "net = monai.networks.nets.UNet(\n",
    "    dimensions=2,\n",
    "    in_channels=1,\n",
    "    out_channels=1,\n",
    "    channels=(8, 16, 32, 64, 128),\n",
    "    strides=(2, 2, 2, 2),\n",
    "    #     num_res_units=2,\n",
    "    dropout=0.1,\n",
    ")\n",
    "\n",
    "net = net.to(device)\n",
    "\n",
    "opt = torch.optim.Adam(net.parameters(), lr)\n",
    "loss = DiceLoss(sigmoid=True)\n",
    "metric = DiceMetric(include_background=True, to_onehot_y=False, sigmoid=True, reduction=\"mean\")\n",
    "\n",
    "step_losses = []\n",
    "epoch_metrics = []\n",
    "total_step = 0\n",
    "\n",
    "for epoch in range(num_epochs):\n",
    "    net.train()\n",
    "\n",
    "    # train network with training images\n",
    "    for batch in loader:\n",
    "        bimages = batch[\"img\"].to(device)\n",
    "        bsegs = batch[\"seg\"].to(device)\n",
    "\n",
    "        opt.zero_grad()\n",
    "\n",
    "        prediction = net(bimages)\n",
    "        loss_val = loss(prediction, bsegs)\n",
    "        loss_val.backward()\n",
    "        opt.step()\n",
    "\n",
    "        step_losses.append((total_step, loss_val.item()))\n",
    "        total_step += 1\n",
    "\n",
    "    net.eval()\n",
    "    metric_vals = []\n",
    "\n",
    "    # test our network using the validation dataset\n",
    "    with torch.no_grad():\n",
    "        for bimages, bsegs in val_loader:\n",
    "            bimages = bimages.to(device)\n",
    "            bsegs = bsegs.to(device)\n",
    "\n",
    "            prediction = net(bimages)\n",
    "            pred_metric = metric(prediction, bsegs)\n",
    "            metric_vals.append(pred_metric.item())\n",
    "\n",
    "    epoch_metrics.append((total_step, np.average(metric_vals)))\n",
    "\n",
    "    progress_bar(epoch + 1, num_epochs, f\"Validation Metric: {epoch_metrics[-1][1]:.3}\")"
   ]
  },
  {
   "cell_type": "markdown",
   "metadata": {
    "colab_type": "text",
    "id": "qscf-SW34DDJ"
   },
   "source": [
    "We now graph the results from our training and find the results are not very good:"
   ]
  },
  {
   "cell_type": "code",
   "execution_count": 7,
   "metadata": {
    "colab": {
     "base_uri": "https://localhost:8080/",
     "height": 390
    },
    "colab_type": "code",
    "id": "fAzQ_36HwRvs",
    "outputId": "e41c312e-e6fe-4b26-e109-4da046e45e0a"
   },
   "outputs": [
    {
     "data": {
      "image/png": "[encoded data removed]",
      "text/plain": [
       "<Figure size 1440x432 with 2 Axes>"
      ]
     },
     "metadata": {
      "needs_background": "light"
     },
     "output_type": "display_data"
    }
   ],
   "source": [
    "fig, ax = plt.subplots(1, 2, figsize=(20, 6))\n",
    "\n",
    "ax[0].semilogy(*zip(*step_losses))\n",
    "ax[0].set_title(\"Step Loss\")\n",
    "\n",
    "ax[1].plot(*zip(*epoch_metrics))\n",
    "ax[1].set_title(\"Per-Step Validation Results\")\n",
    "plt.show()"
   ]
  },
  {
   "cell_type": "markdown",
   "metadata": {
    "colab_type": "text",
    "id": "uiGXhr0B4J6B"
   },
   "source": [
    "As you can see we're not getting good results from our network. The training loss values are jumping around and not decreasing much anymore. The validation score has topped out at 0.25 with is really poor. \n",
    "\n",
    "It's now up to you to improve the results of our segmentation task. The things to consider changing include the network itself, how data is loaded, how batches might be composed, and what transforms we want to use from MONAI. "
   ]
  }
 ],
 "metadata": {
  "accelerator": "GPU",
  "colab": {
   "name": "MONAI_Segment_Exercise.ipynb",
   "provenance": []
  },
  "kernelspec": {
   "display_name": "Python 3",
   "language": "python",
   "name": "python3"
  },
  "language_info": {
   "codemirror_mode": {
    "name": "ipython",
    "version": 3
   },
   "file_extension": ".py",
   "mimetype": "text/x-python",
   "name": "python",
   "nbconvert_exporter": "python",
   "pygments_lexer": "ipython3",
   "version": "3.7.7"
  }
 },
 "nbformat": 4,
 "nbformat_minor": 4
}
